{
 "cells": [
  {
   "cell_type": "markdown",
   "id": "4229d9f8-7ff8-44aa-a155-f449de6d21fe",
   "metadata": {
    "tags": []
   },
   "source": [
    "# TELCO CHURN CLASSIFICATION PROJECT\n",
    "\n",
    "### Overview:\n",
    "\n",
    "### Goals:"
   ]
  },
  {
   "cell_type": "code",
   "execution_count": 2,
   "id": "c325e9de-f1b1-4e5a-af5c-6cac243eca36",
   "metadata": {},
   "outputs": [
    {
     "ename": "ModuleNotFoundError",
     "evalue": "No module named 'acquire'",
     "output_type": "error",
     "traceback": [
      "\u001b[0;31m---------------------------------------------------------------------------\u001b[0m",
      "\u001b[0;31mModuleNotFoundError\u001b[0m                       Traceback (most recent call last)",
      "Input \u001b[0;32mIn [2]\u001b[0m, in \u001b[0;36m<cell line: 6>\u001b[0;34m()\u001b[0m\n\u001b[1;32m      3\u001b[0m \u001b[38;5;28;01mimport\u001b[39;00m \u001b[38;5;21;01mpandas\u001b[39;00m \u001b[38;5;28;01mas\u001b[39;00m \u001b[38;5;21;01mpd\u001b[39;00m\n\u001b[1;32m      5\u001b[0m \u001b[38;5;66;03m# for wrangling and exploration\u001b[39;00m\n\u001b[0;32m----> 6\u001b[0m \u001b[38;5;28;01mimport\u001b[39;00m \u001b[38;5;21;01macquire\u001b[39;00m\n\u001b[1;32m      7\u001b[0m \u001b[38;5;28;01mimport\u001b[39;00m \u001b[38;5;21;01mprepare\u001b[39;00m\n\u001b[1;32m      8\u001b[0m \u001b[38;5;28;01mimport\u001b[39;00m \u001b[38;5;21;01mexplore\u001b[39;00m\n",
      "\u001b[0;31mModuleNotFoundError\u001b[0m: No module named 'acquire'"
     ]
    }
   ],
   "source": [
    "# standard ds imports\n",
    "import numpy as np\n",
    "import pandas as pd\n",
    "\n",
    "# for wrangling and exploration\n",
    "import acquire\n",
    "import prepare\n",
    "import explore\n",
    "\n",
    "# for visualization\n",
    "import matplotlib.pyplot as plt\n",
    "import seaborn as sns\n",
    "\n",
    "# for statistical analysis\n",
    "import scipy.stats as stats\n",
    "\n",
    "# for model evaluation\n",
    "import sklearn.metrics as met"
   ]
  },
  {
   "cell_type": "markdown",
   "id": "a193772a-e4f8-42c6-9113-d5f7fade4ee4",
   "metadata": {},
   "source": [
    "## 1. Data Aquisition and Preparation"
   ]
  },
  {
   "cell_type": "code",
   "execution_count": null,
   "id": "1671a906-b681-4678-b2e4-8a283540528f",
   "metadata": {},
   "outputs": [],
   "source": []
  },
  {
   "cell_type": "markdown",
   "id": "f9b1af97-8b59-4161-9c1e-b15698e86935",
   "metadata": {},
   "source": [
    "## 2. Data Exploration"
   ]
  },
  {
   "cell_type": "code",
   "execution_count": null,
   "id": "3ae5c251-1d49-4b0e-b59b-a29661d7c0ba",
   "metadata": {},
   "outputs": [],
   "source": []
  },
  {
   "cell_type": "markdown",
   "id": "7e806821-6f94-4a65-8935-196afd8dac45",
   "metadata": {},
   "source": [
    "## 3. Data Modeling"
   ]
  },
  {
   "cell_type": "code",
   "execution_count": null,
   "id": "87a08031-bd06-444a-8f67-211426b6dad9",
   "metadata": {},
   "outputs": [],
   "source": []
  },
  {
   "cell_type": "markdown",
   "id": "147b5fcf-a43a-40b5-84cd-f8f9e698cca6",
   "metadata": {},
   "source": [
    "## 4. Model Evaluation"
   ]
  },
  {
   "cell_type": "code",
   "execution_count": null,
   "id": "53e8028c-096d-449e-aa62-706725fa691a",
   "metadata": {},
   "outputs": [],
   "source": []
  },
  {
   "cell_type": "markdown",
   "id": "18919986-2d0e-4a6a-9019-1843d70fd9c3",
   "metadata": {},
   "source": [
    "# CONCLUSTION\n",
    "\n",
    "### Goals and how reached:\n",
    "\n",
    "### Key Findings:\n",
    "\n",
    "### Recommendations:\n",
    "\n",
    "### Next Steps:"
   ]
  },
  {
   "cell_type": "code",
   "execution_count": null,
   "id": "2095e707-bbe6-4b13-840f-843d0c02cb83",
   "metadata": {},
   "outputs": [],
   "source": []
  }
 ],
 "metadata": {
  "kernelspec": {
   "display_name": "Python 3 (ipykernel)",
   "language": "python",
   "name": "python3"
  },
  "language_info": {
   "codemirror_mode": {
    "name": "ipython",
    "version": 3
   },
   "file_extension": ".py",
   "mimetype": "text/x-python",
   "name": "python",
   "nbconvert_exporter": "python",
   "pygments_lexer": "ipython3",
   "version": "3.9.12"
  }
 },
 "nbformat": 4,
 "nbformat_minor": 5
}
